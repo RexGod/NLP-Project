{
 "cells": [
  {
   "cell_type": "markdown",
   "metadata": {},
   "source": [
    "Import libraries"
   ]
  },
  {
   "cell_type": "code",
   "execution_count": 1,
   "metadata": {},
   "outputs": [
    {
     "name": "stderr",
     "output_type": "stream",
     "text": [
      "C:\\Users\\BAAZSHOW\\AppData\\Local\\Temp\\ipykernel_21448\\2304243296.py:3: DeprecationWarning: \n",
      "Pyarrow will become a required dependency of pandas in the next major release of pandas (pandas 3.0),\n",
      "(to allow more performant data types, such as the Arrow string type, and better interoperability with other libraries)\n",
      "but was not found to be installed on your system.\n",
      "If this would cause problems for you,\n",
      "please provide us feedback at https://github.com/pandas-dev/pandas/issues/54466\n",
      "        \n",
      "  import pandas as pd\n"
     ]
    }
   ],
   "source": [
    "from apify_client import ApifyClient\n",
    "import os\n",
    "import pandas as pd\n",
    "import re\n",
    "import numpy as np"
   ]
  },
  {
   "cell_type": "markdown",
   "metadata": {},
   "source": [
    "use api"
   ]
  },
  {
   "cell_type": "code",
   "execution_count": 1,
   "metadata": {},
   "outputs": [
    {
     "name": "stderr",
     "output_type": "stream",
     "text": [
      "C:\\Users\\BAAZSHOW\\AppData\\Local\\Temp\\ipykernel_13368\\1231934277.py:3: DeprecationWarning: \n",
      "Pyarrow will become a required dependency of pandas in the next major release of pandas (pandas 3.0),\n",
      "(to allow more performant data types, such as the Arrow string type, and better interoperability with other libraries)\n",
      "but was not found to be installed on your system.\n",
      "If this would cause problems for you,\n",
      "please provide us feedback at https://github.com/pandas-dev/pandas/issues/54466\n",
      "        \n",
      "  import pandas as pd\n"
     ]
    }
   ],
   "source": [
    "\n",
    "env_variable_name = 'Token-apify'\n",
    "token = os.environ.get(env_variable_name)\n",
    "# Initialize the ApifyClient with your API token\n",
    "client = ApifyClient(token)\n",
    "    \n",
    "# Prepare the Actor input\n",
    "run_input = {\n",
    "    \"directUrls\": [\n",
    "        \"https://www.instagram.com/p/Cr4SocCrFxK/\",\n",
    "        \"https://www.instagram.com/p/COk-fzlpVl5/\",\n",
    "        \"https://www.instagram.com/p/1CHSY2Ivb6/\",\n",
    "        \"https://www.instagram.com/p/1Ldm-uIvR4/\",\n",
    "        \"https://www.instagram.com/p/1B2LoDoven/\",\n",
    "        \"https://www.instagram.com/p/1BSWWmIvTZ/\",\n",
    "        \"https://www.instagram.com/p/0-07N0ovan/\",\n",
    "        \"https://www.instagram.com/p/08bwmpIvWR/\",\n",
    "        \"https://www.instagram.com/p/08AvcMIvS1/\",\n",
    "        \"https://www.instagram.com/p/C1kEzHhoBWp/?img_index=1\",\n",
    "        \"https://www.instagram.com/p/C14prPbIwk4/\",\n",
    "        \"https://www.instagram.com/p/C14kHM6sGPE/\",\n",
    "        \"https://www.instagram.com/p/C06p_LAo_JG/\",\n",
    "        \"https://www.instagram.com/p/CzO6fxOouGx/?img_index=1\",\n",
    "        \"https://www.instagram.com/p/Cwxrs7wIRqM/\",\n",
    "        \"https://www.instagram.com/p/CipzoTiIS-P/\",\n",
    "        \"https://www.instagram.com/p/CiNWpwgo_FU/\",\n",
    "        \"https://www.instagram.com/p/CaNEVM-o8Ds/\",\n",
    "        \"https://www.instagram.com/p/CaXZ-mIJOfr/?img_index=1\",\n",
    "        \"https://www.instagram.com/p/CXgkblaons2/?img_index=1\",\n",
    "        \"https://www.instagram.com/p/CVvWbXIoqgr/?img_index=1\"\n",
    "        \"https://www.instagram.com/p/CR8-M5wo_gQ/\",\n",
    "        \"https://www.instagram.com/p/CPvj2lrA4CZ/?img_index=1\",\n",
    "        \"https://www.instagram.com/p/CPbAXRGAvEe/\",\n",
    "        \"https://www.instagram.com/p/CCJjVP2Iadi/\",\n",
    "        \"https://www.instagram.com/p/CBV9NXboSFf/\",\n",
    "        \"https://www.instagram.com/p/BydIGw1oYSz/\"\n",
    "\n",
    "\n",
    "    ],\n",
    "    \"resultsLimit\": 100,\n",
    "}\n",
    "\n",
    "# Run the Actor and wait for it to finish\n",
    "run = client.actor(\"SbK00X0JYCPblD2wp\").call(run_input=run_input)\n",
    "\n",
    "# Fetch and print Actor results from the run's dataset (if there are any)\n",
    "result_list = []\n",
    "for item in client.dataset(run[\"defaultDatasetId\"]).iterate_items():\n",
    "    result_list.append(item)\n",
    "\n",
    "# Convert the list of results into a DataFrame\n",
    "df = pd.DataFrame(result_list)"
   ]
  },
  {
   "cell_type": "code",
   "execution_count": 2,
   "metadata": {},
   "outputs": [
    {
     "data": {
      "text/plain": [
       "postUrl               1194\n",
       "id                    1194\n",
       "text                  1194\n",
       "ownerUsername         1194\n",
       "ownerProfilePicUrl    1194\n",
       "timestamp             1194\n",
       "likesCount            1194\n",
       "dtype: int64"
      ]
     },
     "execution_count": 2,
     "metadata": {},
     "output_type": "execute_result"
    }
   ],
   "source": [
    "df.count()"
   ]
  },
  {
   "cell_type": "code",
   "execution_count": 3,
   "metadata": {},
   "outputs": [],
   "source": [
    "df.to_csv('interstaller_comments.csv')"
   ]
  },
  {
   "cell_type": "markdown",
   "metadata": {},
   "source": [
    "## Pre Proccessing"
   ]
  },
  {
   "cell_type": "code",
   "execution_count": 2,
   "metadata": {},
   "outputs": [],
   "source": [
    "data = pd.read_csv('interstaller_comments.csv')"
   ]
  },
  {
   "cell_type": "code",
   "execution_count": 3,
   "metadata": {},
   "outputs": [
    {
     "data": {
      "text/html": [
       "<div>\n",
       "<style scoped>\n",
       "    .dataframe tbody tr th:only-of-type {\n",
       "        vertical-align: middle;\n",
       "    }\n",
       "\n",
       "    .dataframe tbody tr th {\n",
       "        vertical-align: top;\n",
       "    }\n",
       "\n",
       "    .dataframe thead th {\n",
       "        text-align: right;\n",
       "    }\n",
       "</style>\n",
       "<table border=\"1\" class=\"dataframe\">\n",
       "  <thead>\n",
       "    <tr style=\"text-align: right;\">\n",
       "      <th></th>\n",
       "      <th>Unnamed: 0</th>\n",
       "      <th>postUrl</th>\n",
       "      <th>id</th>\n",
       "      <th>text</th>\n",
       "      <th>ownerUsername</th>\n",
       "      <th>ownerProfilePicUrl</th>\n",
       "      <th>timestamp</th>\n",
       "      <th>likesCount</th>\n",
       "    </tr>\n",
       "  </thead>\n",
       "  <tbody>\n",
       "    <tr>\n",
       "      <th>0</th>\n",
       "      <td>0</td>\n",
       "      <td>https://www.instagram.com/p/08AvcMIvS1/</td>\n",
       "      <td>17851208707003237</td>\n",
       "      <td>Amazing film!</td>\n",
       "      <td>bonomotion_video</td>\n",
       "      <td>https://instagram.fdub7-1.fna.fbcdn.net/v/t51....</td>\n",
       "      <td>2015-04-05T04:51:40.000Z</td>\n",
       "      <td>0</td>\n",
       "    </tr>\n",
       "    <tr>\n",
       "      <th>1</th>\n",
       "      <td>1</td>\n",
       "      <td>https://www.instagram.com/p/08AvcMIvS1/</td>\n",
       "      <td>17851283659003237</td>\n",
       "      <td>@malih.kt follow this</td>\n",
       "      <td>homogenic.a.s</td>\n",
       "      <td>https://instagram.fdub7-1.fna.fbcdn.net/v/t51....</td>\n",
       "      <td>2015-06-12T14:55:46.000Z</td>\n",
       "      <td>0</td>\n",
       "    </tr>\n",
       "    <tr>\n",
       "      <th>2</th>\n",
       "      <td>2</td>\n",
       "      <td>https://www.instagram.com/p/08AvcMIvS1/</td>\n",
       "      <td>17855983747003237</td>\n",
       "      <td>love it</td>\n",
       "      <td>chrislanewef</td>\n",
       "      <td>https://scontent-cdg4-2.cdninstagram.com/v/t51...</td>\n",
       "      <td>2016-04-24T13:44:42.000Z</td>\n",
       "      <td>0</td>\n",
       "    </tr>\n",
       "    <tr>\n",
       "      <th>3</th>\n",
       "      <td>3</td>\n",
       "      <td>https://www.instagram.com/p/08AvcMIvS1/</td>\n",
       "      <td>17862874135003237</td>\n",
       "      <td>❤️❤️❤️</td>\n",
       "      <td>nnftshopp</td>\n",
       "      <td>https://scontent-cdg4-2.cdninstagram.com/v/t51...</td>\n",
       "      <td>2016-10-01T15:54:56.000Z</td>\n",
       "      <td>0</td>\n",
       "    </tr>\n",
       "    <tr>\n",
       "      <th>4</th>\n",
       "      <td>4</td>\n",
       "      <td>https://www.instagram.com/p/08AvcMIvS1/</td>\n",
       "      <td>17855499205163204</td>\n",
       "      <td>My favorite monolith spaceship❤️</td>\n",
       "      <td>holotales</td>\n",
       "      <td>https://instagram.fdub7-1.fna.fbcdn.net/v/t51....</td>\n",
       "      <td>2017-05-06T09:58:55.000Z</td>\n",
       "      <td>1</td>\n",
       "    </tr>\n",
       "  </tbody>\n",
       "</table>\n",
       "</div>"
      ],
      "text/plain": [
       "   Unnamed: 0                                  postUrl                 id  \\\n",
       "0           0  https://www.instagram.com/p/08AvcMIvS1/  17851208707003237   \n",
       "1           1  https://www.instagram.com/p/08AvcMIvS1/  17851283659003237   \n",
       "2           2  https://www.instagram.com/p/08AvcMIvS1/  17855983747003237   \n",
       "3           3  https://www.instagram.com/p/08AvcMIvS1/  17862874135003237   \n",
       "4           4  https://www.instagram.com/p/08AvcMIvS1/  17855499205163204   \n",
       "\n",
       "                               text     ownerUsername  \\\n",
       "0                     Amazing film!  bonomotion_video   \n",
       "1             @malih.kt follow this     homogenic.a.s   \n",
       "2                           love it      chrislanewef   \n",
       "3                            ❤️❤️❤️         nnftshopp   \n",
       "4  My favorite monolith spaceship❤️         holotales   \n",
       "\n",
       "                                  ownerProfilePicUrl  \\\n",
       "0  https://instagram.fdub7-1.fna.fbcdn.net/v/t51....   \n",
       "1  https://instagram.fdub7-1.fna.fbcdn.net/v/t51....   \n",
       "2  https://scontent-cdg4-2.cdninstagram.com/v/t51...   \n",
       "3  https://scontent-cdg4-2.cdninstagram.com/v/t51...   \n",
       "4  https://instagram.fdub7-1.fna.fbcdn.net/v/t51....   \n",
       "\n",
       "                  timestamp  likesCount  \n",
       "0  2015-04-05T04:51:40.000Z           0  \n",
       "1  2015-06-12T14:55:46.000Z           0  \n",
       "2  2016-04-24T13:44:42.000Z           0  \n",
       "3  2016-10-01T15:54:56.000Z           0  \n",
       "4  2017-05-06T09:58:55.000Z           1  "
      ]
     },
     "execution_count": 3,
     "metadata": {},
     "output_type": "execute_result"
    }
   ],
   "source": [
    "data.head()"
   ]
  },
  {
   "cell_type": "code",
   "execution_count": 4,
   "metadata": {},
   "outputs": [],
   "source": [
    "def clean_text(text):\n",
    "    \n",
    "    if isinstance(text, (str, bytes)):\n",
    "        # Remove non-alphabetic characters\n",
    "        text = re.sub('[^a-zA-Z]', ' ', text)\n",
    "        text = text.lower()\n",
    "        # Remove extra whitespaces\n",
    "        text = re.sub('\\s+', ' ', text).strip()\n",
    "        return text\n",
    "    else:\n",
    "        return np.nan"
   ]
  },
  {
   "cell_type": "code",
   "execution_count": 5,
   "metadata": {},
   "outputs": [],
   "source": [
    "data['text'] = data['text'].apply(clean_text)\n",
    "data = data[data['text'].notna() & (data['text'] != '')].reset_index(drop=True)"
   ]
  },
  {
   "cell_type": "code",
   "execution_count": 6,
   "metadata": {},
   "outputs": [
    {
     "data": {
      "text/plain": [
       "Unnamed: 0            974\n",
       "postUrl               974\n",
       "id                    974\n",
       "text                  974\n",
       "ownerUsername         974\n",
       "ownerProfilePicUrl    974\n",
       "timestamp             974\n",
       "likesCount            974\n",
       "dtype: int64"
      ]
     },
     "execution_count": 6,
     "metadata": {},
     "output_type": "execute_result"
    }
   ],
   "source": [
    "data.count()"
   ]
  },
  {
   "cell_type": "code",
   "execution_count": 9,
   "metadata": {},
   "outputs": [],
   "source": [
    "data.to_csv('interstaller_comments_finall.csv')"
   ]
  }
 ],
 "metadata": {
  "kernelspec": {
   "display_name": "co_lab",
   "language": "python",
   "name": "python3"
  },
  "language_info": {
   "codemirror_mode": {
    "name": "ipython",
    "version": 3
   },
   "file_extension": ".py",
   "mimetype": "text/x-python",
   "name": "python",
   "nbconvert_exporter": "python",
   "pygments_lexer": "ipython3",
   "version": "3.9.18"
  }
 },
 "nbformat": 4,
 "nbformat_minor": 2
}
